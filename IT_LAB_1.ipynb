{
  "cells": [
    {
      "cell_type": "markdown",
      "metadata": {
        "colab_type": "text",
        "id": "view-in-github"
      },
      "source": [
        "<a href=\"https://colab.research.google.com/github/dwaidatta/IT_LAB_KGEC/blob/main/IT_LAB_1.ipynb\" target=\"_parent\"><img src=\"https://colab.research.google.com/assets/colab-badge.svg\" alt=\"Open In Colab\"/></a>"
      ]
    },
    {
      "cell_type": "markdown",
      "id": "f802e156",
      "metadata": {
        "id": "f802e156"
      },
      "source": [
        "# IT LAB Assignment 1\n",
        "Name: Dwaipayan Datta  \n",
        "Roll: 10200124065  \n",
        "Department: Computer Science and Engineering  \n",
        "Subject Code:  \n",
        "Subject:  \n",
        "\n",
        "Kalyani Government Engineering College"
      ]
    },
    {
      "cell_type": "markdown",
      "id": "1145cee9",
      "metadata": {
        "id": "1145cee9"
      },
      "source": [
        "# Section 1"
      ]
    },
    {
      "cell_type": "markdown",
      "id": "b29aaec1",
      "metadata": {
        "id": "b29aaec1"
      },
      "source": [
        "1.1. Program to find area, perimeter of rectangle, circle."
      ]
    },
    {
      "cell_type": "code",
      "execution_count": 1,
      "id": "8d2c3288",
      "metadata": {
        "colab": {
          "base_uri": "https://localhost:8080/"
        },
        "id": "8d2c3288",
        "outputId": "42ad550b-17da-4bd8-bb8a-c9a1883fd63d"
      },
      "outputs": [
        {
          "name": "stdout",
          "output_type": "stream",
          "text": [
            "Enter length of rectangle: 2.5\n",
            "Enter breadth of rectangle: 3.5\n",
            "Area of rectangle = 8.75\n",
            "Perimeter of rectangle = 12.0\n",
            "Enter radius of circle: 8.4\n",
            "Area of circle = 82.82064000000001\n",
            "Perimeter of circle = 52.752\n"
          ]
        }
      ],
      "source": [
        "length = float(input(\"Enter length of rectangle: \"))\n",
        "breadth = float(input(\"Enter breadth of rectangle: \"))\n",
        "area = length * breadth\n",
        "perimeter = 2 * (length + breadth)\n",
        "print(f\"Area of rectangle = {area}\\nPerimeter of rectangle = {perimeter}\")\n",
        "\n",
        "radius = float(input(\"Enter radius of circle: \"))\n",
        "area = 3.14 * 3.14 * radius\n",
        "perimeter = 2 * 3.14 * radius\n",
        "print(f\"Area of circle = {area}\\nPerimeter of circle = {perimeter}\")"
      ]
    },
    {
      "cell_type": "markdown",
      "id": "b75c96a7",
      "metadata": {
        "id": "b75c96a7"
      },
      "source": [
        "1.2. Swap two numbers using and without using thrid variable."
      ]
    },
    {
      "cell_type": "code",
      "execution_count": 2,
      "id": "7bb91a24",
      "metadata": {
        "colab": {
          "base_uri": "https://localhost:8080/"
        },
        "id": "7bb91a24",
        "outputId": "efd8620c-e6c5-4b12-cace-f62dba6e498d"
      },
      "outputs": [
        {
          "name": "stdout",
          "output_type": "stream",
          "text": [
            "a = 5\n",
            "b = 30\n",
            "a = 30\tb = 5\n",
            "a = 5\tb = 30\n"
          ]
        }
      ],
      "source": [
        "a = int(input(\"a = \"))\n",
        "b = int(input(\"b = \"))\n",
        "\n",
        "# Swap using thrid varible\n",
        "temp = a + b\n",
        "a = b\n",
        "b = temp - a\n",
        "print(f\"a = {a}\\tb = {b}\")\n",
        "\n",
        "# Swap without using third variable\n",
        "a, b = b, a # returns to original state since already swapped before\n",
        "print(f\"a = {a}\\tb = {b}\")"
      ]
    },
    {
      "cell_type": "markdown",
      "id": "5jU0nxTgkoBy",
      "metadata": {
        "id": "5jU0nxTgkoBy"
      },
      "source": [
        "1.3. Generate multiplication table using python."
      ]
    },
    {
      "cell_type": "code",
      "execution_count": 4,
      "id": "cB4hW23wkk63",
      "metadata": {
        "colab": {
          "base_uri": "https://localhost:8080/"
        },
        "id": "cB4hW23wkk63",
        "outputId": "21b5de61-1746-4d00-fdb5-0bc0e4b378e2"
      },
      "outputs": [
        {
          "name": "stdout",
          "output_type": "stream",
          "text": [
            "Enter number you want table of: 5\n",
            "\n",
            "==== Table upto 12 ====\n",
            "\n",
            "5 x 1 = 5\n",
            "5 x 2 = 10\n",
            "5 x 3 = 15\n",
            "5 x 4 = 20\n",
            "5 x 5 = 25\n",
            "5 x 6 = 30\n",
            "5 x 7 = 35\n",
            "5 x 8 = 40\n",
            "5 x 9 = 45\n",
            "5 x 10 = 50\n",
            "5 x 11 = 55\n",
            "5 x 12 = 60\n"
          ]
        }
      ],
      "source": [
        "num = int(input(\"Enter number you want table of: \"))\n",
        "print(f\"\\n==== Table upto 12 ====\\n\")\n",
        "for i in range(1, 13):\n",
        "    print(f\"{num} x {i} = {num * i}\")"
      ]
    },
    {
      "cell_type": "markdown",
      "id": "VJqvAuqqlKcc",
      "metadata": {
        "id": "VJqvAuqqlKcc"
      },
      "source": [
        "1.4. Generate prime numbers within 1 to 500."
      ]
    },
    {
      "cell_type": "code",
      "execution_count": 30,
      "id": "59HtCaHslE04",
      "metadata": {
        "colab": {
          "base_uri": "https://localhost:8080/"
        },
        "id": "59HtCaHslE04",
        "outputId": "d03f48ec-193e-4d6c-a841-e2197a624176"
      },
      "outputs": [
        {
          "name": "stdout",
          "output_type": "stream",
          "text": [
            "2\t3\t5\t7\t11\t13\t17\t19\t23\t29\t31\t37\t41\t43\t47\t53\t59\t61\t67\t71\t73\t79\t83\t89\t97\t101\t103\t107\t109\t113\t127\t131\t137\t139\t149\t151\t157\t163\t167\t173\t179\t181\t191\t193\t197\t199\t211\t223\t227\t229\t233\t239\t241\t251\t257\t263\t269\t271\t277\t281\t283\t293\t307\t311\t313\t317\t331\t337\t347\t349\t353\t359\t367\t373\t379\t383\t389\t397\t401\t409\t419\t421\t431\t433\t439\t443\t449\t457\t461\t463\t467\t479\t487\t491\t499\t"
          ]
        }
      ],
      "source": [
        "import math\n",
        "def prime_check(x: int) -> bool:\n",
        "  if x < 2:\n",
        "    return False\n",
        "  for i in range(2, (int)(math.floor(math.sqrt(x)))+1):\n",
        "    if x % i == 0:\n",
        "      return False\n",
        "  return True;\n",
        "\n",
        "for i in range(1, 501):\n",
        "  if(prime_check(i)):\n",
        "    print(f\"{i}\\t\", end='')"
      ]
    },
    {
      "cell_type": "markdown",
      "id": "cmPK6v7QnBAX",
      "metadata": {
        "id": "cmPK6v7QnBAX"
      },
      "source": [
        "1.5. Display leap years within 1900 to 2012 and show the checking of leap year."
      ]
    },
    {
      "cell_type": "code",
      "execution_count": 29,
      "id": "f1TWl9t2nIjY",
      "metadata": {
        "colab": {
          "base_uri": "https://localhost:8080/"
        },
        "id": "f1TWl9t2nIjY",
        "outputId": "3e3979a5-10ea-4c9f-8331-e69b280e9f52"
      },
      "outputs": [
        {
          "name": "stdout",
          "output_type": "stream",
          "text": [
            "1904\t1908\t1912\t1916\t1920\t1924\t1928\t1932\t1936\t1940\t1944\t1948\t1952\t1956\t1960\t1964\t1968\t1972\t1976\t1980\t1984\t1988\t1992\t1996\t2000\t2004\t2008\t2012\t"
          ]
        }
      ],
      "source": [
        "for yr in range(1900, 2012+1):\n",
        "  if(yr % 4 == 0 and yr % 100 != 0 or yr % 400 == 0):\n",
        "    print(f\"{yr}\\t\", end='')"
      ]
    },
    {
      "cell_type": "markdown",
      "id": "fltPBWgcndKM",
      "metadata": {
        "id": "fltPBWgcndKM"
      },
      "source": [
        "# Section 2"
      ]
    },
    {
      "cell_type": "markdown",
      "id": "e8egA0eDnf-P",
      "metadata": {
        "id": "e8egA0eDnf-P"
      },
      "source": [
        "2.1. Check number is armstrong or not."
      ]
    },
    {
      "cell_type": "code",
      "execution_count": 11,
      "id": "YqIIMqfSnXC6",
      "metadata": {
        "colab": {
          "base_uri": "https://localhost:8080/"
        },
        "id": "YqIIMqfSnXC6",
        "outputId": "8f1a0a37-806a-46d3-ce83-7e99ef13bf87"
      },
      "outputs": [
        {
          "name": "stdout",
          "output_type": "stream",
          "text": [
            "Enter a number: 153\n",
            "153 is an Armstrong number\n"
          ]
        }
      ],
      "source": [
        "num = int(input(\"Enter a number: \"))\n",
        "order = len(str(num))\n",
        "sum_of_powers = 0\n",
        "\n",
        "temp = num\n",
        "while (temp > 0):\n",
        "    digit = temp % 10\n",
        "    sum_of_powers += digit ** order\n",
        "    temp //= 10\n",
        "\n",
        "if num == sum_of_powers:\n",
        "    print(f\"{num} is an Armstrong number\")\n",
        "else:\n",
        "    print(f\"{num} is not an Armstrong number\")"
      ]
    },
    {
      "cell_type": "markdown",
      "id": "G9YdjqZ0n7wg",
      "metadata": {
        "id": "G9YdjqZ0n7wg"
      },
      "source": [
        "2.2. Show university gradation system using if-else."
      ]
    },
    {
      "cell_type": "code",
      "execution_count": 13,
      "id": "zoH3Bka-oAWC",
      "metadata": {
        "colab": {
          "base_uri": "https://localhost:8080/"
        },
        "id": "zoH3Bka-oAWC",
        "outputId": "ad28cc1c-d1af-4167-bf6b-3ac70c47684d"
      },
      "outputs": [
        {
          "name": "stdout",
          "output_type": "stream",
          "text": [
            "Enter the student's marks: 88\n",
            "The student's grade is: B\n"
          ]
        }
      ],
      "source": [
        "marks = float(input(\"Enter the student's marks: \"))\n",
        "\n",
        "if marks >= 90:\n",
        "    grade = \"A\"\n",
        "elif marks >= 80:\n",
        "    grade = \"B\"\n",
        "elif marks >= 70:\n",
        "    grade = \"C\"\n",
        "elif marks >= 60:\n",
        "    grade = \"D\"\n",
        "elif marks >= 50:\n",
        "    grade = \"E\"\n",
        "else:\n",
        "    grade = \"F\"\n",
        "\n",
        "print(f\"The student's grade is: {grade}\")"
      ]
    },
    {
      "cell_type": "markdown",
      "id": "hW8tUtlHoP6y",
      "metadata": {
        "id": "hW8tUtlHoP6y"
      },
      "source": [
        "2.3. Find whether a character is vowel, consonant, number, special character or not."
      ]
    },
    {
      "cell_type": "code",
      "execution_count": 14,
      "id": "SCxfpLwhoj-w",
      "metadata": {
        "colab": {
          "base_uri": "https://localhost:8080/"
        },
        "id": "SCxfpLwhoj-w",
        "outputId": "f53d4669-2941-40e6-c4a7-686bd6ddc71d"
      },
      "outputs": [
        {
          "name": "stdout",
          "output_type": "stream",
          "text": [
            "Enter a character: #\n",
            "'#' is a special character.\n"
          ]
        }
      ],
      "source": [
        "char = input(\"Enter a character: \")\n",
        "\n",
        "if len(char) == 1:\n",
        "    if 'a' <= char <= 'z' or 'A' <= char <= 'Z':\n",
        "        if char.lower() in 'aeiou':\n",
        "            print(f\"'{char}' is a vowel.\")\n",
        "        else:\n",
        "            print(f\"'{char}' is a consonant.\")\n",
        "    elif '0' <= char <= '9':\n",
        "        print(f\"'{char}' is a number.\")\n",
        "    else:\n",
        "        print(f\"'{char}' is a special character.\")\n",
        "else:\n",
        "    print(\"Please enter only a single character.\")"
      ]
    },
    {
      "cell_type": "markdown",
      "id": "ziiAYpD_olhk",
      "metadata": {
        "id": "ziiAYpD_olhk"
      },
      "source": [
        "2.4. Find roots of Quadraic equation and show all condition clearly in program."
      ]
    },
    {
      "cell_type": "code",
      "execution_count": 15,
      "id": "g2wLm3fBo17G",
      "metadata": {
        "colab": {
          "base_uri": "https://localhost:8080/"
        },
        "id": "g2wLm3fBo17G",
        "outputId": "300bd0ac-6ec4-4695-ea5f-6fe4d9f49f42"
      },
      "outputs": [
        {
          "name": "stdout",
          "output_type": "stream",
          "text": [
            "Enter coefficient a: 5\n",
            "Enter coefficient b: 30\n",
            "Enter coefficient c: 6\n",
            "Two distinct real roots:\n",
            "x1 = -5.792848008753788\n",
            "x2 = -0.20715199124621186\n"
          ]
        }
      ],
      "source": [
        "import cmath\n",
        "\n",
        "# Input coefficients\n",
        "a = float(input(\"Enter coefficient a: \"))\n",
        "b = float(input(\"Enter coefficient b: \"))\n",
        "c = float(input(\"Enter coefficient c: \"))\n",
        "\n",
        "# Calculate the discriminant\n",
        "discriminant = (b**2) - (4*a*c)\n",
        "\n",
        "# Find roots based on the discriminant\n",
        "if discriminant > 0:\n",
        "    # Two distinct real roots\n",
        "    x1 = (-b - discriminant**0.5) / (2*a)\n",
        "    x2 = (-b + discriminant**0.5) / (2*a)\n",
        "    print(\"Two distinct real roots:\")\n",
        "    print(f\"x1 = {x1}\")\n",
        "    print(f\"x2 = {x2}\")\n",
        "elif discriminant == 0:\n",
        "    # One real root (or two equal real roots)\n",
        "    x = -b / (2*a)\n",
        "    print(\"One real root:\")\n",
        "    print(f\"x = {x}\")\n",
        "else:\n",
        "    # Two complex roots\n",
        "    x1 = (-b - cmath.sqrt(discriminant)) / (2*a)\n",
        "    x2 = (-b + cmath.sqrt(discriminant)) / (2*a)\n",
        "    print(\"Two complex roots:\")\n",
        "    print(f\"x1 = {x1}\")\n",
        "    print(f\"x2 = {x2}\")"
      ]
    },
    {
      "cell_type": "markdown",
      "id": "NYaRSgNJo1vy",
      "metadata": {
        "id": "NYaRSgNJo1vy"
      },
      "source": [
        "2.5. Check whether a number is power of 3 or power of 2 or not."
      ]
    },
    {
      "cell_type": "code",
      "execution_count": 16,
      "id": "d6y6CahopDyb",
      "metadata": {
        "colab": {
          "base_uri": "https://localhost:8080/"
        },
        "id": "d6y6CahopDyb",
        "outputId": "15b285c2-864b-440f-a8ee-542eea312b45"
      },
      "outputs": [
        {
          "name": "stdout",
          "output_type": "stream",
          "text": [
            "Enter a number: 81\n",
            "81 is a power of 3.\n"
          ]
        }
      ],
      "source": [
        "import math\n",
        "\n",
        "def is_power_of(n, base):\n",
        "  if n <= 0:\n",
        "    return False\n",
        "  if n == 1:\n",
        "    return True\n",
        "  # Repeatedly divide n by base until it's 1 or not divisible\n",
        "  while n % base == 0:\n",
        "    n /= base\n",
        "  return n == 1\n",
        "\n",
        "num = int(input(\"Enter a number: \"))\n",
        "\n",
        "if is_power_of(num, 2):\n",
        "  print(f\"{num} is a power of 2.\")\n",
        "elif is_power_of(num, 3):\n",
        "  print(f\"{num} is a power of 3.\")\n",
        "else:\n",
        "  print(f\"{num} is neither a power of 2 nor a power of 3.\")"
      ]
    },
    {
      "cell_type": "markdown",
      "id": "VJle1xJKpSn4",
      "metadata": {
        "id": "VJle1xJKpSn4"
      },
      "source": [
        "2.6. Check whether a triangle is valid or not in terms of side and angle."
      ]
    },
    {
      "cell_type": "code",
      "execution_count": 17,
      "id": "X_7uVTkcpX49",
      "metadata": {
        "colab": {
          "base_uri": "https://localhost:8080/"
        },
        "id": "X_7uVTkcpX49",
        "outputId": "82960c8f-d686-429d-a033-2735a224c134"
      },
      "outputs": [
        {
          "name": "stdout",
          "output_type": "stream",
          "text": [
            "Enter length of side 1: 3\n",
            "Enter length of side 2: 4\n",
            "Enter length of side 3: 5\n",
            "The triangle is valid based on side lengths.\n",
            "Enter angle 1: 90\n",
            "Enter angle 2: 60\n",
            "Enter angle 3: 30\n",
            "The triangle is valid based on angles.\n"
          ]
        }
      ],
      "source": [
        "def is_valid_triangle_sides(a, b, c):\n",
        "  \"\"\"Checks if a triangle is valid based on side lengths.\"\"\"\n",
        "  return (a + b > c) and (a + c > b) and (b + c > a)\n",
        "\n",
        "def is_valid_triangle_angles(angle1, angle2, angle3):\n",
        "  \"\"\"Checks if a triangle is valid based on angles.\"\"\"\n",
        "  return ((angle1 > 0 and angle2 > 0 and angle3 > 0) and\n",
        "          (angle1 + angle2 + angle3 == 180))\n",
        "\n",
        "# Check by sides\n",
        "side1 = float(input(\"Enter length of side 1: \"))\n",
        "side2 = float(input(\"Enter length of side 2: \"))\n",
        "side3 = float(input(\"Enter length of side 3: \"))\n",
        "\n",
        "if is_valid_triangle_sides(side1, side2, side3):\n",
        "  print(\"The triangle is valid based on side lengths.\")\n",
        "else:\n",
        "  print(\"The triangle is not valid based on side lengths.\")\n",
        "\n",
        "# Check by angles\n",
        "angle1 = float(input(\"Enter angle 1: \"))\n",
        "angle2 = float(input(\"Enter angle 2: \"))\n",
        "angle3 = float(input(\"Enter angle 3: \"))\n",
        "\n",
        "if is_valid_triangle_angles(angle1, angle2, angle3):\n",
        "  print(\"The triangle is valid based on angles.\")\n",
        "else:\n",
        "  print(\"The triangle is not valid based on angles.\")"
      ]
    },
    {
      "cell_type": "markdown",
      "id": "fu_VSoQ7pilf",
      "metadata": {
        "id": "fu_VSoQ7pilf"
      },
      "source": [
        "# Section 3"
      ]
    },
    {
      "cell_type": "markdown",
      "id": "ucBeAgNGp8KK",
      "metadata": {
        "id": "ucBeAgNGp8KK"
      },
      "source": [
        "3.1. Find cube of a number using function."
      ]
    },
    {
      "cell_type": "code",
      "execution_count": 18,
      "id": "3iuMKSZrpkMr",
      "metadata": {
        "colab": {
          "base_uri": "https://localhost:8080/"
        },
        "id": "3iuMKSZrpkMr",
        "outputId": "b5380975-909f-479d-a1d9-30c8a024a88d"
      },
      "outputs": [
        {
          "name": "stdout",
          "output_type": "stream",
          "text": [
            "Enter a number to find its cube: 6\n",
            "The cube of 6.0 is 216.0\n"
          ]
        }
      ],
      "source": [
        "def find_cube(num):\n",
        "  \"\"\"Calculates the cube of a number.\"\"\"\n",
        "  return num ** 3\n",
        "\n",
        "number = float(input(\"Enter a number to find its cube: \"))\n",
        "cube = find_cube(number)\n",
        "print(f\"The cube of {number} is {cube}\")"
      ]
    },
    {
      "cell_type": "markdown",
      "id": "hoktZMlbqCwD",
      "metadata": {
        "id": "hoktZMlbqCwD"
      },
      "source": [
        "3.2. Program to compute P(n, r) using recursive function."
      ]
    },
    {
      "cell_type": "code",
      "execution_count": 19,
      "id": "XyT4WCfPqCDr",
      "metadata": {
        "colab": {
          "base_uri": "https://localhost:8080/"
        },
        "id": "XyT4WCfPqCDr",
        "outputId": "98860037-4ee5-49de-b22e-83c7885a6c57"
      },
      "outputs": [
        {
          "name": "stdout",
          "output_type": "stream",
          "text": [
            "Enter the value of n: 5\n",
            "Enter the value of r: 2\n",
            "The number of permutations P(5, 2) is: 20\n"
          ]
        }
      ],
      "source": [
        "def factorial(n):\n",
        "  if n == 0:\n",
        "    return 1\n",
        "  else:\n",
        "    return n * factorial(n-1)\n",
        "\n",
        "def permutations(n, r):\n",
        "  \"\"\"Calculates the number of permutations P(n, r) using recursion.\"\"\"\n",
        "  if r < 0 or r > n:\n",
        "    return 0  # Invalid input\n",
        "  return factorial(n) // factorial(n - r)\n",
        "\n",
        "# Input values for n and r\n",
        "n = int(input(\"Enter the value of n: \"))\n",
        "r = int(input(\"Enter the value of r: \"))\n",
        "\n",
        "# Calculate and print the permutation\n",
        "result = permutations(n, r)\n",
        "print(f\"The number of permutations P({n}, {r}) is: {result}\")"
      ]
    },
    {
      "cell_type": "markdown",
      "id": "88GkifKAqUzS",
      "metadata": {
        "id": "88GkifKAqUzS"
      },
      "source": [
        "3.3. Even odd checking of a number using function."
      ]
    },
    {
      "cell_type": "code",
      "execution_count": 20,
      "id": "1hwfhV41qbhk",
      "metadata": {
        "colab": {
          "base_uri": "https://localhost:8080/"
        },
        "id": "1hwfhV41qbhk",
        "outputId": "e8c7fbc8-d278-454f-c943-b6eee93ec1bb"
      },
      "outputs": [
        {
          "name": "stdout",
          "output_type": "stream",
          "text": [
            "Enter a number: 8\n",
            "8 is an even number.\n"
          ]
        }
      ],
      "source": [
        "def is_even(num):\n",
        "  \"\"\"Checks if a number is even.\"\"\"\n",
        "  return num % 2 == 0\n",
        "\n",
        "def is_odd(num):\n",
        "  \"\"\"Checks if a number is odd.\"\"\"\n",
        "  return num % 2 != 0\n",
        "\n",
        "number = int(input(\"Enter a number: \"))\n",
        "\n",
        "if is_even(number):\n",
        "  print(f\"{number} is an even number.\")\n",
        "elif is_odd(number):\n",
        "  print(f\"{number} is an odd number.\")"
      ]
    },
    {
      "cell_type": "markdown",
      "id": "49Jj7vvEqcgp",
      "metadata": {
        "id": "49Jj7vvEqcgp"
      },
      "source": [
        "3.4. Generate Fibonacci series using function."
      ]
    },
    {
      "cell_type": "code",
      "execution_count": 21,
      "id": "n2yTPwrwqg84",
      "metadata": {
        "colab": {
          "base_uri": "https://localhost:8080/"
        },
        "id": "n2yTPwrwqg84",
        "outputId": "b62bfad8-53f0-47a9-8a06-396adb91d20c"
      },
      "outputs": [
        {
          "name": "stdout",
          "output_type": "stream",
          "text": [
            "Enter the number of terms for the Fibonacci series: 10\n",
            "Fibonacci series up to 10 terms:\n",
            "[0, 1, 1, 2, 3, 5, 8, 13, 21, 34]\n"
          ]
        }
      ],
      "source": [
        "def fibonacci_series(n_terms):\n",
        "  \"\"\"Generates the Fibonacci series up to n_terms.\"\"\"\n",
        "  if n_terms <= 0:\n",
        "    return []\n",
        "  elif n_terms == 1:\n",
        "    return [0]\n",
        "  else:\n",
        "    series = [0, 1]\n",
        "    while len(series) < n_terms:\n",
        "      next_term = series[-1] + series[-2]\n",
        "      series.append(next_term)\n",
        "    return series\n",
        "\n",
        "# Input the number of terms\n",
        "num_terms = int(input(\"Enter the number of terms for the Fibonacci series: \"))\n",
        "\n",
        "# Generate and print the series\n",
        "fib_series = fibonacci_series(num_terms)\n",
        "print(f\"Fibonacci series up to {num_terms} terms:\")\n",
        "print(fib_series)"
      ]
    },
    {
      "cell_type": "markdown",
      "id": "LS_e6_WBvP_Y",
      "metadata": {
        "id": "LS_e6_WBvP_Y"
      },
      "source": [
        "3.5. Find GCD, LCM using function."
      ]
    },
    {
      "cell_type": "code",
      "execution_count": 22,
      "id": "4o_b4M7jvVF6",
      "metadata": {
        "colab": {
          "base_uri": "https://localhost:8080/"
        },
        "id": "4o_b4M7jvVF6",
        "outputId": "624026a0-2ac7-45d3-a04b-566d35c76c8a"
      },
      "outputs": [
        {
          "name": "stdout",
          "output_type": "stream",
          "text": [
            "Enter first number: 6\n",
            "Enter second number: 81\n",
            "The GCD of 6 and 81 is: 3\n",
            "The LCM of 6 and 81 is: 162\n"
          ]
        }
      ],
      "source": [
        "import math\n",
        "\n",
        "def find_gcd(a, b):\n",
        "  \"\"\"Calculates the Greatest Common Divisor (GCD) of two numbers.\"\"\"\n",
        "  while(b):\n",
        "    a, b = b, a % b\n",
        "  return a\n",
        "\n",
        "def find_lcm(a, b):\n",
        "  \"\"\"Calculates the Least Common Multiple (LCM) of two numbers.\"\"\"\n",
        "  # LCM * GCD = |a * b|\n",
        "  return abs(a*b) // find_gcd(a, b)\n",
        "\n",
        "# Input two numbers\n",
        "num1 = int(input(\"Enter first number: \"))\n",
        "num2 = int(input(\"Enter second number: \"))\n",
        "\n",
        "# Find and print GCD and LCM\n",
        "gcd_result = find_gcd(num1, num2)\n",
        "lcm_result = find_lcm(num1, num2)\n",
        "\n",
        "print(f\"The GCD of {num1} and {num2} is: {gcd_result}\")\n",
        "print(f\"The LCM of {num1} and {num2} is: {lcm_result}\")"
      ]
    },
    {
      "cell_type": "markdown",
      "id": "KGX0-eAYvYIz",
      "metadata": {
        "id": "KGX0-eAYvYIz"
      },
      "source": [
        "# Section 4"
      ]
    },
    {
      "cell_type": "markdown",
      "id": "PLktPjTFwgnu",
      "metadata": {
        "id": "PLktPjTFwgnu"
      },
      "source": [
        "4.1. Generate pattern\n",
        "\n",
        "```text\n",
        "1\n",
        "2 2\n",
        "3 3 3\n",
        "4 4 4 4\n",
        "```"
      ]
    },
    {
      "cell_type": "code",
      "execution_count": 32,
      "id": "PbdrFG1jvkla",
      "metadata": {
        "colab": {
          "base_uri": "https://localhost:8080/"
        },
        "id": "PbdrFG1jvkla",
        "outputId": "f73e5905-9745-42b8-e5c2-6bf0ae39f2f5"
      },
      "outputs": [
        {
          "name": "stdout",
          "output_type": "stream",
          "text": [
            "1 \n",
            "2 2 \n",
            "3 3 3 \n",
            "4 4 4 4 \n"
          ]
        }
      ],
      "source": [
        "for i in range(1, 5):\n",
        "  for j in range(1, i+1):\n",
        "    print(i, end=' ')\n",
        "  print()"
      ]
    },
    {
      "cell_type": "markdown",
      "id": "HobyMnKUw-av",
      "metadata": {
        "id": "HobyMnKUw-av"
      },
      "source": [
        "4.2. Generate pattern\n",
        "\n",
        "```text\n",
        "   A  \n",
        "  B B  \n",
        " C C C  \n",
        "D D D D\n",
        "```"
      ]
    },
    {
      "cell_type": "code",
      "execution_count": 33,
      "id": "0F_ggagsxilB",
      "metadata": {
        "colab": {
          "base_uri": "https://localhost:8080/"
        },
        "id": "0F_ggagsxilB",
        "outputId": "cea38b0f-9223-4220-c849-cb171993e6f0"
      },
      "outputs": [
        {
          "name": "stdout",
          "output_type": "stream",
          "text": [
            "   A \n",
            "  B B \n",
            " C C C \n",
            "D D D D \n"
          ]
        }
      ],
      "source": [
        "space = 3\n",
        "for i in range(65, 69):\n",
        "  for j in range(1, space+1):\n",
        "    print(end=' ')\n",
        "  space -= 1\n",
        "  for j in range(65, i+1):\n",
        "    print(chr(i), end=' ')\n",
        "  print()"
      ]
    },
    {
      "cell_type": "markdown",
      "id": "TsIKwIx0w8AU",
      "metadata": {
        "id": "TsIKwIx0w8AU"
      },
      "source": [
        "4.3. Generate pattern\n",
        "\n",
        "```text\n",
        "4 4 4 4\n",
        "3 3 3\n",
        "2 2\n",
        "1\n",
        "```"
      ]
    },
    {
      "cell_type": "code",
      "execution_count": 35,
      "id": "bRmxkdAYyDpw",
      "metadata": {
        "colab": {
          "base_uri": "https://localhost:8080/"
        },
        "id": "bRmxkdAYyDpw",
        "outputId": "2c3f9807-e140-479c-c1b0-60fc03394088"
      },
      "outputs": [
        {
          "name": "stdout",
          "output_type": "stream",
          "text": [
            "4 4 4 4 \n",
            "3 3 3 \n",
            "2 2 \n",
            "1 \n"
          ]
        }
      ],
      "source": [
        "for i in range(4, 0, -1):\n",
        "  for j in range(1, i+1):\n",
        "    print(i, end=' ')\n",
        "  print()"
      ]
    },
    {
      "cell_type": "markdown",
      "id": "3Tis_lFsyPl-",
      "metadata": {
        "id": "3Tis_lFsyPl-"
      },
      "source": [
        "4.4. Generate pattern\n",
        "\n",
        "```text\n",
        "      1\n",
        "    1 2\n",
        "  1 2 3\n",
        "1 2 3 4\n",
        "```"
      ]
    },
    {
      "cell_type": "code",
      "execution_count": 37,
      "id": "HgM2tVpOyfML",
      "metadata": {
        "colab": {
          "base_uri": "https://localhost:8080/"
        },
        "id": "HgM2tVpOyfML",
        "outputId": "4b1c90ad-42e6-42ae-813e-a4f5a578be74"
      },
      "outputs": [
        {
          "name": "stdout",
          "output_type": "stream",
          "text": [
            "      1 \n",
            "    1 2 \n",
            "  1 2 3 \n",
            "1 2 3 4 \n"
          ]
        }
      ],
      "source": [
        "space = 3\n",
        "for i in range(1, 5):\n",
        "  for j in range(1, space+1):\n",
        "    print(end='  ')\n",
        "  space -= 1\n",
        "  for j in range(1, i+1):\n",
        "    print(j, end=' ')\n",
        "  print()\n"
      ]
    },
    {
      "cell_type": "markdown",
      "id": "6v7Q_3SfvlEr",
      "metadata": {
        "id": "6v7Q_3SfvlEr"
      },
      "source": [
        "# Section 5"
      ]
    },
    {
      "cell_type": "markdown",
      "id": "5huGXlHIvmxO",
      "metadata": {
        "id": "5huGXlHIvmxO"
      },
      "source": [
        "5.1. Perform string concatenation, reverse, upper and lower case conversion with python."
      ]
    },
    {
      "cell_type": "code",
      "execution_count": 23,
      "id": "FORdhijuvmTs",
      "metadata": {
        "colab": {
          "base_uri": "https://localhost:8080/"
        },
        "id": "FORdhijuvmTs",
        "outputId": "5578ccce-ad3b-40dd-ea5f-a616f51d3d18"
      },
      "outputs": [
        {
          "name": "stdout",
          "output_type": "stream",
          "text": [
            "Concatenated String: Hello World\n",
            "Reversed String: dlroW olleH\n",
            "Upper Case String: HELLO WORLD\n",
            "Lower Case String: hello world\n"
          ]
        }
      ],
      "source": [
        "str1 = \"Hello\"\n",
        "str2 = \" World\"\n",
        "\n",
        "# String Concatenation\n",
        "concatenated_string = str1 + str2\n",
        "print(f\"Concatenated String: {concatenated_string}\")\n",
        "\n",
        "# String Reverse\n",
        "reversed_string = concatenated_string[::-1]\n",
        "print(f\"Reversed String: {reversed_string}\")\n",
        "\n",
        "# Upper Case Conversion\n",
        "upper_string = concatenated_string.upper()\n",
        "print(f\"Upper Case String: {upper_string}\")\n",
        "\n",
        "# Lower Case Conversion\n",
        "lower_string = concatenated_string.lower()\n",
        "print(f\"Lower Case String: {lower_string}\")"
      ]
    },
    {
      "cell_type": "markdown",
      "id": "xzsPu4Nxv3na",
      "metadata": {
        "id": "xzsPu4Nxv3na"
      },
      "source": [
        "5.2. Show string splitting, replacing operating."
      ]
    },
    {
      "cell_type": "code",
      "execution_count": 24,
      "id": "ERvMdoRAv8Lu",
      "metadata": {
        "colab": {
          "base_uri": "https://localhost:8080/"
        },
        "id": "ERvMdoRAv8Lu",
        "outputId": "e364d370-2205-4409-ae6c-da6e102212b4"
      },
      "outputs": [
        {
          "name": "stdout",
          "output_type": "stream",
          "text": [
            "Splitting by space: ['Python', 'programming', 'is', 'fun', 'and', 'easy', 'to', 'learn.']\n",
            "Splitting by 'is': ['Python programming ', ' fun and easy to learn.']\n",
            "Replacing 'fun' with 'exciting': Python programming is exciting and easy to learn.\n",
            "Replacing all spaces with '-': Python-programming-is-fun-and-easy-to-learn.\n"
          ]
        }
      ],
      "source": [
        "my_string = \"Python programming is fun and easy to learn.\"\n",
        "\n",
        "# String Splitting\n",
        "# Split by space\n",
        "split_string_space = my_string.split()\n",
        "print(f\"Splitting by space: {split_string_space}\")\n",
        "\n",
        "# Split by a specific character (e.g., \"is\")\n",
        "split_string_is = my_string.split(\"is\")\n",
        "print(f\"Splitting by 'is': {split_string_is}\")\n",
        "\n",
        "# String Replacing\n",
        "# Replace \"fun\" with \"exciting\"\n",
        "replaced_string = my_string.replace(\"fun\", \"exciting\")\n",
        "print(f\"Replacing 'fun' with 'exciting': {replaced_string}\")\n",
        "\n",
        "# Replace all occurrences of a character\n",
        "replaced_all = my_string.replace(\" \", \"-\")\n",
        "print(f\"Replacing all spaces with '-': {replaced_all}\")"
      ]
    },
    {
      "cell_type": "markdown",
      "id": "jKo_Dzdhv9Rc",
      "metadata": {
        "id": "jKo_Dzdhv9Rc"
      },
      "source": [
        "5.3. Program to count number of occurences of character in a string."
      ]
    },
    {
      "cell_type": "code",
      "execution_count": 25,
      "id": "vlrIjbIHwFul",
      "metadata": {
        "colab": {
          "base_uri": "https://localhost:8080/"
        },
        "id": "vlrIjbIHwFul",
        "outputId": "51d9ca1d-a2fa-46fa-a085-0883ac0bd017"
      },
      "outputs": [
        {
          "name": "stdout",
          "output_type": "stream",
          "text": [
            "Enter a string: Hello World!\n",
            "Enter the character to count: o\n",
            "The character 'o' appears 2 times in the string.\n"
          ]
        }
      ],
      "source": [
        "my_string = input(\"Enter a string: \")\n",
        "char_to_count = input(\"Enter the character to count: \")\n",
        "\n",
        "count = 0\n",
        "for char in my_string:\n",
        "  if char == char_to_count:\n",
        "    count += 1\n",
        "\n",
        "print(f\"The character '{char_to_count}' appears {count} times in the string.\")"
      ]
    },
    {
      "cell_type": "markdown",
      "id": "KkOd-1FgwHK4",
      "metadata": {
        "id": "KkOd-1FgwHK4"
      },
      "source": [
        "5.4. Perform string slicing operation."
      ]
    },
    {
      "cell_type": "code",
      "execution_count": 26,
      "id": "BvhLp9uUwKL3",
      "metadata": {
        "colab": {
          "base_uri": "https://localhost:8080/"
        },
        "id": "BvhLp9uUwKL3",
        "outputId": "6fc7e2fd-5ec6-4978-f1ef-9013845e1d1a"
      },
      "outputs": [
        {
          "name": "stdout",
          "output_type": "stream",
          "text": [
            "Slice 1 (first 6 characters): Python\n",
            "Slice 2 (from index 7 to end): Slicing Example\n",
            "Slice 3 (beginning to index 6): Python\n",
            "Slice 4 (with step of 2): Pto lcn xml\n",
            "Slice 5 (reversed string): elpmaxE gnicilS nohtyP\n"
          ]
        }
      ],
      "source": [
        "my_string = \"Python Slicing Example\"\n",
        "\n",
        "# Slice the first 6 characters\n",
        "slice1 = my_string[0:6]\n",
        "print(f\"Slice 1 (first 6 characters): {slice1}\")\n",
        "\n",
        "# Slice from index 7 to the end\n",
        "slice2 = my_string[7:]\n",
        "print(f\"Slice 2 (from index 7 to end): {slice2}\")\n",
        "\n",
        "# Slice from the beginning to index 6 (exclusive)\n",
        "slice3 = my_string[:6]\n",
        "print(f\"Slice 3 (beginning to index 6): {slice3}\")\n",
        "\n",
        "# Slice with a step of 2\n",
        "slice4 = my_string[::2]\n",
        "print(f\"Slice 4 (with step of 2): {slice4}\")\n",
        "\n",
        "# Reverse the string using slicing\n",
        "slice5 = my_string[::-1]\n",
        "print(f\"Slice 5 (reversed string): {slice5}\")"
      ]
    }
  ],
  "metadata": {
    "colab": {
      "include_colab_link": true,
      "provenance": []
    },
    "kernelspec": {
      "display_name": "Python 3",
      "language": "python",
      "name": "python3"
    },
    "language_info": {
      "codemirror_mode": {
        "name": "ipython",
        "version": 3
      },
      "file_extension": ".py",
      "mimetype": "text/x-python",
      "name": "python",
      "nbconvert_exporter": "python",
      "pygments_lexer": "ipython3",
      "version": "3.12.10"
    }
  },
  "nbformat": 4,
  "nbformat_minor": 5
}
